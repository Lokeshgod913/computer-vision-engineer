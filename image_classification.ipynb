{
    "cells": [
        {
            "cell_type": "markdown",
            "metadata": {},
            "source": [
                "# Image Classification API\n",
                "This notebook contains the end-to-end workflow for training and deploying an image classification model."
            ]
        },
        {
            "cell_type": "code",
            "execution_count": null,
            "metadata": {},
            "outputs": [],
            "source": [
                "# Install necessary dependencies\n",
                "!pip install tensorflow fastapi uvicorn numpy pillow torch torchvision"
            ]
        },
        {
            "cell_type": "markdown",
            "metadata": {},
            "source": [
                "## Data Preprocessing"
            ]
        },
        {
            "cell_type": "code",
            "execution_count": null,
            "metadata": {},
            "outputs": [],
            "source": [
                "import numpy as np\n",
                "import tensorflow as tf\n",
                "from tensorflow.keras.preprocessing.image import ImageDataGenerator\n",
                "\n",
                "# Define image size and batch size\n",
                "IMG_SIZE = (224, 224)\n",
                "BATCH_SIZE = 32\n",
                "\n",
                "# Define data augmentation\n",
                "datagen = ImageDataGenerator(\n",
                "    rescale=1.0 / 255,\n",
                "    validation_split=0.2,\n",
                "    rotation_range=20,\n",
                "    width_shift_range=0.2,\n",
                "    height_shift_range=0.2,\n",
                "    horizontal_flip=True,\n",
                ")\n",
                "\n",
                "# Load dataset\n",
                "dataset_path = \"./dataset\"\n",
                "train_data = datagen.flow_from_directory(\n",
                "    dataset_path, target_size=IMG_SIZE, batch_size=BATCH_SIZE, class_mode='categorical', subset='training'\n",
                ")\n",
                "val_data = datagen.flow_from_directory(\n",
                "    dataset_path, target_size=IMG_SIZE, batch_size=BATCH_SIZE, class_mode='categorical', subset='validation'\n",
                ")"
            ]
        },
        {
            "cell_type": "markdown",
            "metadata": {},
            "source": [
                "## Model Training"
            ]
        },
        {
            "cell_type": "code",
            "execution_count": null,
            "metadata": {},
            "outputs": [],
            "source": [
                "from tensorflow.keras.applications import MobileNetV2\n",
                "from tensorflow.keras.layers import Dense, Dropout, GlobalAveragePooling2D\n",
                "from tensorflow.keras.models import Model\n",
                "from tensorflow.keras.optimizers import Adam\n",
                "\n",
                "# Load pre-trained model\n",
                "base_model = MobileNetV2(weights='imagenet', include_top=False, input_shape=(224, 224, 3))\n",
                "base_model.trainable = False\n",
                "\n",
                "# Build custom classification layers\n",
                "x = base_model.output\n",
                "x = GlobalAveragePooling2D()(x)\n",
                "x = Dense(128, activation='relu')(x)\n",
                "x = Dropout(0.3)(x)\n",
                "output_layer = Dense(10, activation='softmax')(x)\n",
                "\n",
                "# Compile the model\n",
                "model = Model(inputs=base_model.input, outputs=output_layer)\n",
                "model.compile(optimizer=Adam(learning_rate=0.001), loss='categorical_crossentropy', metrics=['accuracy'])\n",
                "\n",
                "# Train the model\n",
                "EPOCHS = 10\n",
                "model.fit(train_data, validation_data=val_data, epochs=EPOCHS)\n",
                "\n",
                "# Save model\n",
                "model.save('./model/mobilenetv2_saved_model')"
            ]
        },
        {
            "cell_type": "markdown",
            "metadata": {},
            "source": [
                "## Model Deployment (FastAPI)"
            ]
        },
        {
            "cell_type": "code",
            "execution_count": null,
            "metadata": {},
            "outputs": [],
            "source": [
                "from fastapi import FastAPI, UploadFile, File\n",
                "from io import BytesIO\n",
                "from PIL import Image\n",
                "import uvicorn\n",
                "\n",
                "# Initialize FastAPI\n",
                "app = FastAPI()\n",
                "\n",
                "# Load trained model\n",
                "model = tf.keras.models.load_model('./model/mobilenetv2_saved_model')\n",
                "class_names = {0: 'Class_A', 1: 'Class_B', 2: 'Class_C'}\n",
                "\n",
                "@app.post(\"/predict\")\n",
                "async def predict(file: UploadFile = File(...)):\n",
                "    contents = await file.read()\n",
                "    image = Image.open(BytesIO(contents)).convert(\"RGB\")\n",
                "    image = image.resize(IMG_SIZE)\n",
                "    image_array = np.array(image) / 255.0\n",
                "    image_array = np.expand_dims(image_array, axis=0)\n",
                "\n",
                "    predictions = model.predict(image_array)\n",
                "    predicted_class = np.argmax(predictions)\n",
                "    return {\"class\": class_names.get(predicted_class, \"Unknown\"), \"confidence\": float(np.max(predictions))}"
            ]
        },
        {
            "cell_type": "markdown",
            "metadata": {},
            "source": [
                "## Running the API"
            ]
        },
        {
            "cell_type": "code",
            "execution_count": null,
            "metadata": {},
            "outputs": [],
            "source": [
                "if __name__ == \"__main__\":\n",
                "    uvicorn.run(app, host=\"0.0.0.0\", port=8000)"
            ]
        }
    ],
    "metadata": {
        "kernelspec": {
            "display_name": "Python 3",
            "language": "python",
            "name": "python3"
        },
        "language_info": {
            "codemirror_mode": {
                "name": "ipython",
                "version": 3
            },
            "file_extension": ".py",
            "mimetype": "text/x-python",
            "name": "python",
            "nbconvert_exporter": "python",
            "pygments_lexer": "ipython3",
            "version": "3.8.5"
        }
    },
    "nbformat": 4,
    "nbformat_minor": 4
}